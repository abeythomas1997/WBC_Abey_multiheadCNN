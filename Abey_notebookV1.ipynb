{
 "cells": [
  {
   "cell_type": "code",
   "execution_count": 6,
   "id": "d7251d1f-336a-4989-9374-1f3247a6d7fb",
   "metadata": {},
   "outputs": [
    {
     "name": "stdout",
     "output_type": "stream",
     "text": [
      "how are you\n"
     ]
    }
   ],
   "source": [
    "print(\"how are you\")"
   ]
  },
  {
   "cell_type": "code",
   "execution_count": 2,
   "id": "7fd3e662-10df-43b9-8192-330ddda1d4e9",
   "metadata": {},
   "outputs": [
    {
     "data": {
      "text/plain": [
       "4"
      ]
     },
     "execution_count": 2,
     "metadata": {},
     "output_type": "execute_result"
    }
   ],
   "source": [
    "len(\"abey\")"
   ]
  },
  {
   "cell_type": "code",
   "execution_count": null,
   "id": "3b099e85-59d4-4688-822d-2ecc2b8f4598",
   "metadata": {},
   "outputs": [],
   "source": [
    "git"
   ]
  },
  {
   "cell_type": "code",
   "execution_count": null,
   "id": "1af54b63-6211-4c6c-b5b1-ddcb6cbad395",
   "metadata": {},
   "outputs": [],
   "source": [
    "abey"
   ]
  },
  {
   "cell_type": "code",
   "execution_count": null,
   "id": "a75f28bc-02c7-4dee-aa56-1394f3811133",
   "metadata": {},
   "outputs": [],
   "source": []
  }
 ],
 "metadata": {
  "kernelspec": {
   "display_name": "conda_tensorflow2_p310",
   "language": "python",
   "name": "conda_tensorflow2_p310"
  },
  "language_info": {
   "codemirror_mode": {
    "name": "ipython",
    "version": 3
   },
   "file_extension": ".py",
   "mimetype": "text/x-python",
   "name": "python",
   "nbconvert_exporter": "python",
   "pygments_lexer": "ipython3",
   "version": "3.10.18"
  }
 },
 "nbformat": 4,
 "nbformat_minor": 5
}
